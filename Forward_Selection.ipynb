from sklearn import datasets
import numpy as np
iris = datasets.load_iris()
import matplotlib.pyplot as plt
from mpl_toolkits import mplot3d
import numpy as np
import matplotlib.pyplot as plt
from mpl_toolkits.mplot3d import axes3d  

iris_set_train = iris.data[0:21]

iris_ver_train = iris.data[50:71]

iris_vir_train = iris.data[100:121]



iris_set_sl_mean = np.mean(iris_set_train[:,0])
iris_set_sw_mean = np.mean(iris_set_train[:,1])
iris_set_pl_mean = np.mean(iris_set_train[:,2])
iris_set_pw_mean = np.mean(iris_set_train[:,3])


iris_ver_sl_mean = np.mean(iris_ver_train[:,0])
iris_ver_sw_mean = np.mean(iris_ver_train[:,1])
iris_ver_pl_mean = np.mean(iris_ver_train[:,2])
iris_ver_pw_mean = np.mean(iris_ver_train[:,3])



iris_vir_sl_mean = np.mean(iris_vir_train[:,0])
iris_vir_sw_mean = np.mean(iris_vir_train[:,1])
iris_vir_pl_mean = np.mean(iris_vir_train[:,2])
iris_vir_pw_mean = np.mean(iris_vir_train[:,3])



set_classified = 0
ver_classified = 0
vir_classified = 0

plt.scatter(iris_set_sl_mean, 0, s = 500, color = "red")
plt.scatter(iris_ver_sl_mean, 0, s = 500, color = "black")
plt.scatter(iris_vir_sl_mean, 0, s = 500, color = "pink")



for x in iris.data[21:51]:
  sl = x[0]
  set_dist_sq = (sl - iris_set_sl_mean)**2
  ver_dist_sq = (sl - iris_ver_sl_mean)**2
  vir_dist_sq = (sl - iris_vir_sl_mean)**2
  plt.scatter(sl,0, color = "red")
  if (set_dist_sq < ver_dist_sq):
    if(set_dist_sq < vir_dist_sq):
      set_classified = set_classified + 1

for x in iris.data[71:101]:
  sl = x[0]
  set_dist_sq = (sl - iris_set_sl_mean)**2
  ver_dist_sq = (sl - iris_ver_sl_mean)**2
  vir_dist_sq = (sl - iris_vir_sl_mean)**2
  plt.scatter(sl,0, color = "black")

  if (ver_dist_sq < set_dist_sq):
    if(ver_dist_sq < vir_dist_sq):
      ver_classified = ver_classified + 1



for x in iris.data[121:151]:
  sl = x[0]
  set_dist_sq = (sl - iris_set_sl_mean)**2
  ver_dist_sq = (sl - iris_ver_sl_mean)**2
  vir_dist_sq = (sl - iris_vir_sl_mean)**2
  plt.scatter(sl,0, color = "pink")

  if (vir_dist_sq < set_dist_sq):
    if(vir_dist_sq < ver_dist_sq):
      vir_classified = vir_classified + 1



print((set_classified + vir_classified + ver_classified)/90)

  
set_classified = 0
ver_classified = 0
vir_classified = 0

for x in iris.data[21:51]:
  sw = x[1]
  set_dist_sq = (sw - iris_set_sw_mean)**2
  ver_dist_sq = (sw - iris_ver_sw_mean)**2
  vir_dist_sq = (sw - iris_vir_sw_mean)**2
  if (set_dist_sq < ver_dist_sq):
    if(set_dist_sq < vir_dist_sq):
      set_classified = set_classified + 1

for x in iris.data[71:101]:
  sw = x[1]
  set_dist_sq = (sw - iris_set_sw_mean)**2
  ver_dist_sq = (sw - iris_ver_sw_mean)**2
  vir_dist_sq = (sw - iris_vir_sw_mean)**2
  if (ver_dist_sq < set_dist_sq):
    if(ver_dist_sq < vir_dist_sq):
      ver_classified = ver_classified + 1



for x in iris.data[121:151]:
  sw = x[1]
  set_dist_sq = (sw - iris_set_sw_mean)**2
  ver_dist_sq = (sw - iris_ver_sw_mean)**2
  vir_dist_sq = (sw - iris_vir_sw_mean)**2
  if (vir_dist_sq < set_dist_sq):
    if(vir_dist_sq < ver_dist_sq):
      vir_classified = vir_classified + 1



print((set_classified + vir_classified + ver_classified)/90)

set_classified = 0
ver_classified = 0
vir_classified = 0

for x in iris.data[21:51]:
  pl = x[2]
  set_dist_sq = (pl - iris_set_pl_mean)**2
  ver_dist_sq = (pl - iris_ver_pl_mean)**2
  vir_dist_sq = (pl - iris_vir_pl_mean)**2
  if (set_dist_sq < ver_dist_sq):
    if(set_dist_sq < vir_dist_sq):
      set_classified = set_classified + 1

for x in iris.data[71:101]:
  pl = x[2]
  set_dist_sq = (pl - iris_set_pl_mean)**2
  ver_dist_sq = (pl - iris_ver_pl_mean)**2
  vir_dist_sq = (pl - iris_vir_pl_mean)**2
  if (ver_dist_sq < set_dist_sq):
    if(ver_dist_sq < vir_dist_sq):
      ver_classified = ver_classified + 1



for x in iris.data[121:151]:
  pl = x[2]
  set_dist_sq = (pl - iris_set_pl_mean)**2
  ver_dist_sq = (pl - iris_ver_pl_mean)**2
  vir_dist_sq = (pl - iris_vir_pl_mean)**2
  if (vir_dist_sq < set_dist_sq):
    if(vir_dist_sq < ver_dist_sq):
      vir_classified = vir_classified + 1



print((set_classified + vir_classified + ver_classified)/90)


set_classified = 0
ver_classified = 0
vir_classified = 0

for x in iris.data[21:51]:
  pw = x[3]
  set_dist_sq = (pw - iris_set_pw_mean)**2
  ver_dist_sq = (pw - iris_ver_pw_mean)**2
  vir_dist_sq = (pw - iris_vir_pw_mean)**2
  if (set_dist_sq < ver_dist_sq):
    if(set_dist_sq < vir_dist_sq):
      set_classified = set_classified + 1

for x in iris.data[71:101]:
  pw = x[3]
  set_dist_sq = (pw - iris_set_pw_mean)**2
  ver_dist_sq = (pw - iris_ver_pw_mean)**2
  vir_dist_sq = (pw - iris_vir_pw_mean)**2
  if (ver_dist_sq < set_dist_sq):
    if(ver_dist_sq < vir_dist_sq):
      ver_classified = ver_classified + 1



for x in iris.data[121:151]:
  slpw = x[3]
  set_dist_sq = (pw - iris_set_pw_mean)**2
  ver_dist_sq = (pw - iris_ver_pw_mean)**2
  vir_dist_sq = (pw - iris_vir_pw_mean)**2
  if (vir_dist_sq < set_dist_sq):
    if(vir_dist_sq < ver_dist_sq):
      vir_classified = vir_classified + 1



print((set_classified + vir_classified + ver_classified)/90)
