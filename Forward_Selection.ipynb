from sklearn import datasets #importing the iris dataset from sklearn lib
import numpy as np           #importing numpy as np
iris = datasets.load_iris()  # load the iris dataset
import matplotlib.pyplot as plt  #import plot as plt
from mpl_toolkits import mplot3d  
import numpy as np
import matplotlib.pyplot as plt
from mpl_toolkits.mplot3d import axes3d  

iris_ver_train = iris.data[50:71]         #training data of versicolor class
iris_vir_train = iris.data[100:121]       #training data of virginica class

""" CLASS VERSICOLOR
    mean of sepal length(sl)
    mean of sepal width(sw)
    mean of petal length(pl)
    mean of petal width(pw) respectively
"""

iris_ver_sl_mean = np.mean(iris_ver_train[:,0])
iris_ver_sw_mean = np.mean(iris_ver_train[:,1])
iris_ver_pl_mean = np.mean(iris_ver_train[:,2])
iris_ver_pw_mean = np.mean(iris_ver_train[:,3])


""" CLASS VIRGINICA
    mean of sepal length(sl)
    mean of sepal width(sw)
    mean of petal length(pl)
    mean of petal width(pw) respectively
"""

iris_vir_sl_mean = np.mean(iris_vir_train[:,0])
iris_vir_sw_mean = np.mean(iris_vir_train[:,1])
iris_vir_pl_mean = np.mean(iris_vir_train[:,2])
iris_vir_pw_mean = np.mean(iris_vir_train[:,3])


ver_classified = 0
vir_classified = 0

#plot the mean of sepal lenth of both the classes

plt.scatter(iris_ver_sl_mean, 0, s = 500, color = "black")
plt.scatter(iris_vir_sl_mean, 0, s = 500, color = "pink")

"""begin forward selection algorithm"""
#considering only one feature at a time
#(consider only sepal length)

for x in iris.data[71:101]:
  sl = x[0]
  ver_dist_sq = (sl - iris_ver_sl_mean)**2
  vir_dist_sq = (sl - iris_vir_sl_mean)**2
  plt.scatter(sl,0, color = "pink")
  if (ver_dist_sq < vir_dist_sq):
      ver_classified = ver_classified + 1


for x in iris.data[121:151]:
  sl = x[0]
  ver_dist_sq = (sl - iris_ver_sl_mean)**2
  vir_dist_sq = (sl - iris_vir_sl_mean)**2
  plt.scatter(sl,0, color = "black")
  if (vir_dist_sq < ver_dist_sq):
      vir_classified = vir_classified + 1


print((ver_classified + vir_classified)/90)


#(consider only sepal width)

ver_classified = 0
vir_classified = 0

for x in iris.data[71:101]:
  sw = x[1]
  ver_dist_sq = (sw - iris_ver_sw_mean)**2
  vir_dist_sq = (sw - iris_vir_sw_mean)**2
  #plt.scatter(sw,0, color = "pink")
  if (ver_dist_sq < vir_dist_sq):
      ver_classified = ver_classified + 1


for x in iris.data[121:151]:
  sw = x[1]
  ver_dist_sq = (sw - iris_ver_sw_mean)**2
  vir_dist_sq = (sw - iris_vir_sw_mean)**2
  #plt.scatter(sw,0, color = "black")
  if (vir_dist_sq < ver_dist_sq):
      vir_classified = vir_classified + 1


print((ver_classified + vir_classified)/90)


#(consider only petal length)
ver_classified = 0
vir_classified = 0

for x in iris.data[71:101]:
  pl = x[2]
  ver_dist_sq = (pl - iris_ver_pl_mean)**2
  vir_dist_sq = (pl - iris_vir_pl_mean)**2
  #plt.scatter(pl,0, color = "pink")
  if (ver_dist_sq < vir_dist_sq):
      ver_classified = ver_classified + 1


for x in iris.data[121:151]:
  pl = x[2]
  ver_dist_sq = (pl - iris_ver_pl_mean)**2
  vir_dist_sq = (pl - iris_vir_pl_mean)**2
  #plt.scatter(pl,0, color = "black")
  if (vir_dist_sq < ver_dist_sq):
      vir_classified = vir_classified + 1


print((ver_classified + vir_classified)/90)


#(consider only petal width)
ver_classified = 0
vir_classified = 0

for x in iris.data[71:101]:
  pw = x[3]
  ver_dist_sq = (pw - iris_ver_pw_mean)**2
  vir_dist_sq = (pw - iris_vir_pw_mean)**2
  #plt.scatter(pw,0, color = "pink")
  if (ver_dist_sq < vir_dist_sq):
      ver_classified = ver_classified + 1


for x in iris.data[121:151]:
  pw = x[3]
  ver_dist_sq = (pw - iris_ver_pw_mean)**2
  vir_dist_sq = (pw - iris_vir_pw_mean)**2
  #plt.scatter(pw,0, color = "black")
  if (vir_dist_sq < ver_dist_sq):
      vir_classified = vir_classified + 1

print((ver_classified + vir_classified)/90)

"""Now consider 2 features at a time"""
#(consider petal width + petal length)

ver_classified = 0
vir_classified = 0

for x in iris.data[71:101]:
  pwpl = x[0]
  ver_dist_sq = (pwpl - iris_ver_pw_mean - iris_ver_pl_mean)**2
  vir_dist_sq = (pwpl - iris_vir_pw_mean - iris_vir_pl_mean)**2
  if (ver_dist_sq < vir_dist_sq):
      ver_classified = ver_classified + 1


for x in iris.data[121:151]:
  pwpl = x[0]
  ver_dist_sq = (pwpl - iris_ver_pw_mean - iris_ver_pl_mean)**2
  vir_dist_sq = (pwpl - iris_vir_pw_mean - iris_vir_pl_mean)**2
  if (vir_dist_sq < ver_dist_sq):
      vir_classified = vir_classified + 1


print((ver_classified + vir_classified)/90)


#(consider petal width + sepal length)

ver_classified = 0
vir_classified = 0

for x in iris.data[71:101]:
  pwsl = x[1]
  ver_dist_sq = (pwsl - iris_ver_pw_mean - iris_ver_sl_mean)**2
  vir_dist_sq = (pwsl - iris_vir_pw_mean - iris_vir_sl_mean)**2
  if (ver_dist_sq < vir_dist_sq):
      ver_classified = ver_classified + 1


for x in iris.data[121:151]:
  pwsl = x[1]
  ver_dist_sq = (pwsl - iris_ver_pw_mean - iris_ver_sl_mean)**2
  vir_dist_sq = (pwsl - iris_vir_pw_mean - iris_vir_sl_mean)**2
  if (vir_dist_sq < ver_dist_sq):
      vir_classified = vir_classified + 1


print((ver_classified + vir_classified)/90)


#(consider petal width + sepal width)

ver_classified = 0
vir_classified = 0

for x in iris.data[71:101]:
  pwsw = x[2]
  ver_dist_sq = (pwsw - iris_ver_pw_mean - iris_ver_sw_mean)**2
  vir_dist_sq = (pwsw - iris_vir_pw_mean - iris_vir_sw_mean)**2
  if (ver_dist_sq < vir_dist_sq):
      ver_classified = set_classified + 1


for x in iris.data[121:151]:
  pwsw = x[2]
  ver_dist_sq = (pwsw - iris_ver_pw_mean - iris_ver_sw_mean)**2
  vir_dist_sq = (pwsw - iris_vir_pw_mean - iris_vir_sw_mean)**2
  if (vir_dist_sq < ver_dist_sq):
      vir_classified = vir_classified + 1
	  
	  
print((ver_classified + vir_classified)/90)


#(consider petal length + sepal length)

ver_classified = 0
vir_classified = 0

for x in iris.data[71:101]:
  plsl = x[0]
  ver_dist_sq = (plsl - iris_ver_pl_mean - iris_ver_sl_mean)**2
  vir_dist_sq = (plsl - iris_vir_pl_mean - iris_vir_sl_mean)**2
  if (ver_dist_sq < vir_dist_sq):
      ver_classified = ver_classified + 1


for x in iris.data[121:151]:
  plsl = x[0]
  ver_dist_sq = (plsl - iris_ver_pl_mean - iris_ver_sl_mean)**2
  vir_dist_sq = (plsl - iris_vir_pl_mean - iris_vir_sl_mean)**2
  if (vir_dist_sq < ver_dist_sq):
      vir_classified = vir_classified + 1


print((ver_classified + vir_classified)/90)


#(consider petal length + sepal width)

ver_classified = 0
vir_classified = 0

for x in iris.data[71:101]:
  plsw = x[1]
  ver_dist_sq = (plsw - iris_ver_pl_mean - iris_ver_sw_mean)**2
  vir_dist_sq = (plsw - iris_vir_pl_mean - iris_vir_sw_mean)**2
  if (ver_dist_sq < vir_dist_sq):
      ver_classified = ver_classified + 1


for x in iris.data[121:151]:
  plsw = x[1]
  ver_dist_sq = (plsw - iris_ver_pl_mean - iris_ver_sw_mean)**2
  vir_dist_sq = (plsw - iris_vir_pl_mean - iris_vir_sw_mean)**2
  if (vir_dist_sq < ver_dist_sq):
      vir_classified = vir_classified + 1


print((ver_classified + vir_classified)/90)



"""Now consider 3 features at a time"""
#(consider petal width + sepal width + petal length)

ver_classified = 0
vir_classified = 0

for x in iris.data[71:101]:
  pwswpl = x[0]
  ver_dist_sq = (pwswpl - iris_ver_pw_mean - iris_ver_sw_mean - iris_ver_pl_mean)**2
  vir_dist_sq = (pwswpl - iris_vir_pw_mean - iris_vir_sw_mean - iris_vir_pl_mean)**2
  if (ver_dist_sq < vir_dist_sq):
      ver_classified = ver_classified + 1


for x in iris.data[121:151]:
  pwswpl = x[0]
  ver_dist_sq = (pwswpl - iris_ver_pw_mean - iris_ver_sw_mean - iris_ver_pl_mean)**2
  vir_dist_sq = (pwswpl - iris_vir_pw_mean - iris_vir_sw_mean - iris_vir_pl_mean)**2
  if (vir_dist_sq < ver_dist_sq):
      vir_classified = vir_classified + 1
	  
	  
print((ver_classified + vir_classified)/90)


#(consider petal width + sepal width + sepal length)

ver_classified = 0
vir_classified = 0

for x in iris.data[71:101]:
  pwswsl = x[1]
  ver_dist_sq = (pwswsl - iris_ver_pw_mean - iris_ver_sw_mean - iris_ver_sl_mean)**2
  vir_dist_sq = (pwswsl - iris_vir_pw_mean - iris_vir_sw_mean - iris_vir_sl_mean)**2
  if (ver_dist_sq < vir_dist_sq):
      ver_classified = ver_classified + 1


for x in iris.data[121:151]:
  pwswsl = x[1]
  ver_dist_sq = (pwswsl - iris_ver_pw_mean - iris_ver_sw_mean - iris_ver_sl_mean)**2
  vir_dist_sq = (pwswsl - iris_vir_pw_mean - iris_vir_sw_mean - iris_vir_sl_mean)**2
  if (vir_dist_sq < ver_dist_sq):
      vir_classified = vir_classified + 1
	  
	  
print((ver_classified + vir_classified)/90)
